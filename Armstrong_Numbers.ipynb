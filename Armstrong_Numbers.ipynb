{
  "nbformat": 4,
  "nbformat_minor": 0,
  "metadata": {
    "kernelspec": {
      "display_name": "Python 3",
      "language": "python",
      "name": "python3"
    },
    "language_info": {
      "codemirror_mode": {
        "name": "ipython",
        "version": 3
      },
      "file_extension": ".py",
      "mimetype": "text/x-python",
      "name": "python",
      "nbconvert_exporter": "python",
      "pygments_lexer": "ipython3",
      "version": "3.8.3"
    },
    "colab": {
      "name": "Armstrong Numbers.ipynb",
      "provenance": [],
      "include_colab_link": true
    }
  },
  "cells": [
    {
      "cell_type": "markdown",
      "metadata": {
        "id": "view-in-github",
        "colab_type": "text"
      },
      "source": [
        "<a href=\"https://colab.research.google.com/github/sansystler/codefork/blob/master/Armstrong_Numbers.ipynb\" target=\"_parent\"><img src=\"https://colab.research.google.com/assets/colab-badge.svg\" alt=\"Open In Colab\"/></a>"
      ]
    },
    {
      "cell_type": "markdown",
      "metadata": {
        "id": "6bgOkvJQEsyq"
      },
      "source": [
        "## Armstrong Numbers"
      ]
    },
    {
      "cell_type": "markdown",
      "metadata": {
        "id": "3pTYMrwyEsyt"
      },
      "source": [
        "A positive integer is called an Armstrong number of order n if\n",
        "\n",
        "abcd... = an + bn + cn + dn + ...\n",
        "In case of an Armstrong number of 3 digits, the sum of cubes of each digit is equal to the number itself. For example:\n",
        "\n",
        "153 = 1*1*1 + 5*5*5 + 3*3*3  // 153 is an Armstrong number.   "
      ]
    },
    {
      "cell_type": "markdown",
      "metadata": {
        "id": "n8cX2S2hEsyu"
      },
      "source": [
        "---"
      ]
    },
    {
      "cell_type": "markdown",
      "metadata": {
        "id": "eCTblLqlEsyv"
      },
      "source": [
        "> Check Armstrong number (for 3 digits)"
      ]
    },
    {
      "cell_type": "code",
      "metadata": {
        "id": "BPB8hhxLEsyw",
        "outputId": "4f154950-7298-41e6-8502-162bbf557050"
      },
      "source": [
        "# Python program to check if the number is an Armstrong number or not\n",
        "\n",
        "# take input from the user\n",
        "num = int(input(\"Enter a number: \"))\n",
        "\n",
        "# initialize sum\n",
        "sum = 0\n",
        "\n",
        "# find the sum of the cube of each digit\n",
        "temp = num\n",
        "while temp > 0:\n",
        "   digit = temp % 10\n",
        "   sum += digit ** 3\n",
        "   temp //= 10\n",
        "\n",
        "# display the result\n",
        "if num == sum:\n",
        "   print(num,\"is an Armstrong number\")\n",
        "else:\n",
        "   print(num,\"is not an Armstrong number\")"
      ],
      "execution_count": null,
      "outputs": [
        {
          "name": "stdout",
          "output_type": "stream",
          "text": [
            "Enter a number: 677\n",
            "677 is not an Armstrong number\n"
          ]
        }
      ]
    },
    {
      "cell_type": "markdown",
      "metadata": {
        "id": "s3nwE9-lEsyz"
      },
      "source": [
        "> Check Armstrong Number (for n digits)"
      ]
    },
    {
      "cell_type": "markdown",
      "metadata": {
        "id": "73ZQvzbAEsy0"
      },
      "source": [
        "Here, we ask the user for a number and check if it is an Armstrong number.\n",
        "\n",
        "We need to calculate the sum of the cube of each digit. So, we initialize the sum to 0 and obtain each digit number by using the modulus operator %. The remainder of a number when it is divided by 10 is the last digit of that number. We take the cubes using exponent operator.\n",
        "\n",
        "Finally, we compare the sum with the original number and conclude that it is Armstrong number if they are equal.  "
      ]
    },
    {
      "cell_type": "code",
      "metadata": {
        "id": "sNOkxec4Esy1",
        "outputId": "ef5e18ad-441a-4ec4-b710-82e9a3c1ae96"
      },
      "source": [
        "num = 1634\n",
        "\n",
        "# Changed num variable to string, \n",
        "# and calculated the length (number of digits)\n",
        "order = len(str(num))\n",
        "\n",
        "# initialize sum\n",
        "sum = 0\n",
        "\n",
        "# find the sum of the cube of each digit\n",
        "temp = num\n",
        "while temp > 0:\n",
        "   digit = temp % 10\n",
        "   sum += digit ** order\n",
        "   temp //= 10\n",
        "\n",
        "# display the result\n",
        "if num == sum:\n",
        "   print(num,\"is an Armstrong number\")\n",
        "else:\n",
        "   print(num,\"is not an Armstrong number\")"
      ],
      "execution_count": null,
      "outputs": [
        {
          "name": "stdout",
          "output_type": "stream",
          "text": [
            "1634 is an Armstrong number\n"
          ]
        }
      ]
    },
    {
      "cell_type": "markdown",
      "metadata": {
        "id": "DVMeGd9cEsy2"
      },
      "source": [
        "> Find Armstrong Number in an Interval"
      ]
    },
    {
      "cell_type": "markdown",
      "metadata": {
        "id": "4yzFeRpCEsy3"
      },
      "source": [
        "A positive integer is called an Armstrong number of order n if  \n",
        "\n",
        "abcd... = an + bn + cn + dn + ...  \n",
        "For example,  \n",
        "\n",
        "153 = 1*1*1 + 5*5*5 + 3*3*3  // 153 is an Armstrong number.  "
      ]
    },
    {
      "cell_type": "code",
      "metadata": {
        "id": "tx7db-d5Esy3",
        "outputId": "a805ee53-c3d2-49a4-8a72-8c365a5491cb"
      },
      "source": [
        "# Program to check Armstrong numbers in a certain interval\n",
        "\n",
        "lower = 100\n",
        "upper = 2000\n",
        "\n",
        "for num in range(lower, upper + 1):\n",
        "\n",
        "   # order of number\n",
        "   order = len(str(num))\n",
        "    \n",
        "   # initialize sum\n",
        "   sum = 0\n",
        "\n",
        "   temp = num\n",
        "   while temp > 0:\n",
        "       digit = temp % 10\n",
        "       sum += digit ** order\n",
        "       temp //= 10\n",
        "\n",
        "   if num == sum:\n",
        "       print(num)"
      ],
      "execution_count": null,
      "outputs": [
        {
          "name": "stdout",
          "output_type": "stream",
          "text": [
            "153\n",
            "370\n",
            "371\n",
            "407\n",
            "1634\n"
          ]
        }
      ]
    },
    {
      "cell_type": "code",
      "metadata": {
        "id": "vP2Tnz4qEsy4"
      },
      "source": [
        ""
      ],
      "execution_count": null,
      "outputs": []
    }
  ]
}